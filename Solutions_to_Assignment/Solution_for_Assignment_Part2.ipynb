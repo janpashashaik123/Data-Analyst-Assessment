{
 "cells": [
  {
   "cell_type": "raw",
   "id": "a0c44601",
   "metadata": {},
   "source": [
    "Question 1: Some of the orders are stored in another csv file named `bigkart_newsales`. Read the csv file, store it in a data frame and add it to the `bigkart_sales` data frame. Find the total sales value of the category 'Office Supplies' after combining the dataframes"
   ]
  },
  {
   "cell_type": "code",
   "execution_count": 2,
   "id": "7f472627",
   "metadata": {},
   "outputs": [
    {
     "data": {
      "text/html": [
       "<div>\n",
       "<style scoped>\n",
       "    .dataframe tbody tr th:only-of-type {\n",
       "        vertical-align: middle;\n",
       "    }\n",
       "\n",
       "    .dataframe tbody tr th {\n",
       "        vertical-align: top;\n",
       "    }\n",
       "\n",
       "    .dataframe thead th {\n",
       "        text-align: right;\n",
       "    }\n",
       "</style>\n",
       "<table border=\"1\" class=\"dataframe\">\n",
       "  <thead>\n",
       "    <tr style=\"text-align: right;\">\n",
       "      <th></th>\n",
       "      <th>Order ID</th>\n",
       "      <th>Product Name</th>\n",
       "      <th>Discount</th>\n",
       "      <th>Sales</th>\n",
       "      <th>Profit</th>\n",
       "      <th>Quantity</th>\n",
       "      <th>Category</th>\n",
       "      <th>Sub-Category</th>\n",
       "    </tr>\n",
       "  </thead>\n",
       "  <tbody>\n",
       "    <tr>\n",
       "      <th>0</th>\n",
       "      <td>AZ-2011-1029887</td>\n",
       "      <td>Novimex Color Coded Labels, 5000 Label Set</td>\n",
       "      <td>0.0</td>\n",
       "      <td>26</td>\n",
       "      <td>7</td>\n",
       "      <td>2</td>\n",
       "      <td>Office Supplies</td>\n",
       "      <td>Labels</td>\n",
       "    </tr>\n",
       "    <tr>\n",
       "      <th>1</th>\n",
       "      <td>AZ-2011-107716</td>\n",
       "      <td>Deflect-O Door Stop, Erganomic</td>\n",
       "      <td>0.0</td>\n",
       "      <td>85</td>\n",
       "      <td>15</td>\n",
       "      <td>2</td>\n",
       "      <td>Furniture</td>\n",
       "      <td>Furnishings</td>\n",
       "    </tr>\n",
       "    <tr>\n",
       "      <th>2</th>\n",
       "      <td>AZ-2011-1087704</td>\n",
       "      <td>Belkin Flash Drive, Bluetooth</td>\n",
       "      <td>0.0</td>\n",
       "      <td>294</td>\n",
       "      <td>109</td>\n",
       "      <td>7</td>\n",
       "      <td>Technology</td>\n",
       "      <td>Accessories</td>\n",
       "    </tr>\n",
       "    <tr>\n",
       "      <th>3</th>\n",
       "      <td>AZ-2011-1372644</td>\n",
       "      <td>Panasonic Printer, Durable</td>\n",
       "      <td>0.0</td>\n",
       "      <td>800</td>\n",
       "      <td>168</td>\n",
       "      <td>3</td>\n",
       "      <td>Technology</td>\n",
       "      <td>Machines</td>\n",
       "    </tr>\n",
       "    <tr>\n",
       "      <th>4</th>\n",
       "      <td>AZ-2011-1362199</td>\n",
       "      <td>Sanford Pens, Fluorescent</td>\n",
       "      <td>0.5</td>\n",
       "      <td>25</td>\n",
       "      <td>-11</td>\n",
       "      <td>4</td>\n",
       "      <td>Office Supplies</td>\n",
       "      <td>Art</td>\n",
       "    </tr>\n",
       "    <tr>\n",
       "      <th>...</th>\n",
       "      <td>...</td>\n",
       "      <td>...</td>\n",
       "      <td>...</td>\n",
       "      <td>...</td>\n",
       "      <td>...</td>\n",
       "      <td>...</td>\n",
       "      <td>...</td>\n",
       "      <td>...</td>\n",
       "    </tr>\n",
       "    <tr>\n",
       "      <th>63</th>\n",
       "      <td>AZ-2011-1967754</td>\n",
       "      <td>Logitech Numeric Keypad, USB</td>\n",
       "      <td>0.0</td>\n",
       "      <td>93</td>\n",
       "      <td>40</td>\n",
       "      <td>2</td>\n",
       "      <td>Technology</td>\n",
       "      <td>Accessories</td>\n",
       "    </tr>\n",
       "    <tr>\n",
       "      <th>64</th>\n",
       "      <td>AZ-2011-1976919</td>\n",
       "      <td>Boston Markers, Blue</td>\n",
       "      <td>0.0</td>\n",
       "      <td>132</td>\n",
       "      <td>54</td>\n",
       "      <td>5</td>\n",
       "      <td>Office Supplies</td>\n",
       "      <td>Art</td>\n",
       "    </tr>\n",
       "    <tr>\n",
       "      <th>65</th>\n",
       "      <td>AZ-2011-2001312</td>\n",
       "      <td>Avery Binding Machine, Clear</td>\n",
       "      <td>0.0</td>\n",
       "      <td>97</td>\n",
       "      <td>12</td>\n",
       "      <td>2</td>\n",
       "      <td>Office Supplies</td>\n",
       "      <td>Binders</td>\n",
       "    </tr>\n",
       "    <tr>\n",
       "      <th>66</th>\n",
       "      <td>AZ-2011-2002251</td>\n",
       "      <td>SanDisk Computer Printout Paper, 8.5 x 11</td>\n",
       "      <td>0.0</td>\n",
       "      <td>136</td>\n",
       "      <td>15</td>\n",
       "      <td>4</td>\n",
       "      <td>Office Supplies</td>\n",
       "      <td>Paper</td>\n",
       "    </tr>\n",
       "    <tr>\n",
       "      <th>67</th>\n",
       "      <td>AZ-2011-201891</td>\n",
       "      <td>Cameo Clasp Envelope, with clear poly window</td>\n",
       "      <td>0.0</td>\n",
       "      <td>52</td>\n",
       "      <td>19</td>\n",
       "      <td>4</td>\n",
       "      <td>Office Supplies</td>\n",
       "      <td>Envelopes</td>\n",
       "    </tr>\n",
       "  </tbody>\n",
       "</table>\n",
       "<p>68 rows × 8 columns</p>\n",
       "</div>"
      ],
      "text/plain": [
       "           Order ID                                  Product Name  Discount  \\\n",
       "0   AZ-2011-1029887    Novimex Color Coded Labels, 5000 Label Set       0.0   \n",
       "1    AZ-2011-107716                Deflect-O Door Stop, Erganomic       0.0   \n",
       "2   AZ-2011-1087704                 Belkin Flash Drive, Bluetooth       0.0   \n",
       "3   AZ-2011-1372644                    Panasonic Printer, Durable       0.0   \n",
       "4   AZ-2011-1362199                     Sanford Pens, Fluorescent       0.5   \n",
       "..              ...                                           ...       ...   \n",
       "63  AZ-2011-1967754                  Logitech Numeric Keypad, USB       0.0   \n",
       "64  AZ-2011-1976919                          Boston Markers, Blue       0.0   \n",
       "65  AZ-2011-2001312                  Avery Binding Machine, Clear       0.0   \n",
       "66  AZ-2011-2002251     SanDisk Computer Printout Paper, 8.5 x 11       0.0   \n",
       "67   AZ-2011-201891  Cameo Clasp Envelope, with clear poly window       0.0   \n",
       "\n",
       "    Sales  Profit  Quantity         Category Sub-Category  \n",
       "0      26       7         2  Office Supplies       Labels  \n",
       "1      85      15         2        Furniture  Furnishings  \n",
       "2     294     109         7       Technology  Accessories  \n",
       "3     800     168         3       Technology     Machines  \n",
       "4      25     -11         4  Office Supplies          Art  \n",
       "..    ...     ...       ...              ...          ...  \n",
       "63     93      40         2       Technology  Accessories  \n",
       "64    132      54         5  Office Supplies          Art  \n",
       "65     97      12         2  Office Supplies      Binders  \n",
       "66    136      15         4  Office Supplies        Paper  \n",
       "67     52      19         4  Office Supplies    Envelopes  \n",
       "\n",
       "[68 rows x 8 columns]"
      ]
     },
     "execution_count": 2,
     "metadata": {},
     "output_type": "execute_result"
    }
   ],
   "source": [
    "\n",
    "import pandas as pd\n",
    "df1 = pd.read_csv('C:/Users/MUNNI SHAIK/Downloads/bigkart_newsales.csv')\n",
    "df2 = pd.read_csv('C:/Users/MUNNI SHAIK/Downloads/bigkart_sales.csv')\n",
    "df2=pd.concat([df2,df1],ignore_index=True)\n",
    "df2"
   ]
  },
  {
   "cell_type": "code",
   "execution_count": 3,
   "id": "021dfb5d",
   "metadata": {},
   "outputs": [
    {
     "name": "stdout",
     "output_type": "stream",
     "text": [
      "7970\n"
     ]
    }
   ],
   "source": [
    "df=df2\n",
    "office=df.loc[df['Category'] == 'Office Supplies' ]\n",
    "total_sales= office['Sales'].sum()\n",
    "print(total_sales)"
   ]
  },
  {
   "cell_type": "markdown",
   "id": "891b0713",
   "metadata": {},
   "source": [
    "Question 2: There are some duplicate rows in the data frame. Drop these rows and calculate the total sales value of the category Office Supplies."
   ]
  },
  {
   "cell_type": "code",
   "execution_count": 4,
   "id": "a708d851",
   "metadata": {
    "scrolled": true
   },
   "outputs": [
    {
     "data": {
      "text/plain": [
       "6964"
      ]
     },
     "execution_count": 4,
     "metadata": {},
     "output_type": "execute_result"
    }
   ],
   "source": [
    "df=df.drop_duplicates(ignore_index=True)\n",
    "office=df.loc[df['Category'] == 'Office Supplies' ]\n",
    "total_sales= office['Sales'].sum()\n",
    "print(total_sales)"
   ]
  },
  {
   "cell_type": "markdown",
   "id": "4338945b",
   "metadata": {},
   "source": [
    "Question 3: Find the most profitable category and sub category combination based on the net profit"
   ]
  },
  {
   "cell_type": "code",
   "execution_count": 97,
   "id": "4b79506a",
   "metadata": {},
   "outputs": [
    {
     "data": {
      "text/html": [
       "<div>\n",
       "<style scoped>\n",
       "    .dataframe tbody tr th:only-of-type {\n",
       "        vertical-align: middle;\n",
       "    }\n",
       "\n",
       "    .dataframe tbody tr th {\n",
       "        vertical-align: top;\n",
       "    }\n",
       "\n",
       "    .dataframe thead th {\n",
       "        text-align: right;\n",
       "    }\n",
       "</style>\n",
       "<table border=\"1\" class=\"dataframe\">\n",
       "  <thead>\n",
       "    <tr style=\"text-align: right;\">\n",
       "      <th></th>\n",
       "      <th>Category</th>\n",
       "      <th>Sub-Category</th>\n",
       "    </tr>\n",
       "  </thead>\n",
       "  <tbody>\n",
       "    <tr>\n",
       "      <th>26</th>\n",
       "      <td>Technology</td>\n",
       "      <td>Phones</td>\n",
       "    </tr>\n",
       "  </tbody>\n",
       "</table>\n",
       "</div>"
      ],
      "text/plain": [
       "      Category Sub-Category\n",
       "26  Technology       Phones"
      ]
     },
     "execution_count": 97,
     "metadata": {},
     "output_type": "execute_result"
    }
   ],
   "source": [
    "most_profit = df.loc[df['Profit']==df['Profit'].max()]\n",
    "most_profit[['Category','Sub-Category']]"
   ]
  },
  {
   "cell_type": "markdown",
   "id": "099ddcd0",
   "metadata": {},
   "source": [
    "Question 4: How many invalid order IDs are there in the data frame. An order id is of the form AZ-2011-Y where Y represents a whole number. A Order ID is said to be valid only if Y consists of 7 digits. Find the number of invalid order order IDs in the data frame."
   ]
  },
  {
   "cell_type": "code",
   "execution_count": 96,
   "id": "fdc317e7",
   "metadata": {},
   "outputs": [
    {
     "data": {
      "text/plain": [
       "7    47\n",
       "6     6\n",
       "Name: no_of_digits, dtype: int64"
      ]
     },
     "execution_count": 96,
     "metadata": {},
     "output_type": "execute_result"
    }
   ],
   "source": [
    "df['Order no']=df['Order ID'].str.split('-')\n",
    "df['Order no']=df['Order no'].apply(lambda x: x[2])\n",
    "df['no_of_digits']=df['Order no'].apply(lambda x: len(x))\n",
    "df['no_of_digits'].value_counts()"
   ]
  },
  {
   "cell_type": "markdown",
   "id": "e3d75f8a",
   "metadata": {},
   "source": [
    "Question 5: Find the top 25 orders based on sales value and find the number of orders which belong to furniture category."
   ]
  },
  {
   "cell_type": "code",
   "execution_count": 95,
   "id": "90c96cc1",
   "metadata": {},
   "outputs": [
    {
     "data": {
      "text/plain": [
       "5"
      ]
     },
     "execution_count": 95,
     "metadata": {},
     "output_type": "execute_result"
    }
   ],
   "source": [
    "top_25=df.sort_values(by='Sales', ascending=False)\n",
    "top_25=top_25.iloc[:25,]\n",
    "num_of_ords=top_25[top_25['Category']=='Furniture']\n",
    "num_of_ords['Order ID'].count()"
   ]
  },
  {
   "cell_type": "markdown",
   "id": "f5efdaf5",
   "metadata": {},
   "source": [
    "Question 6: Among the orders with sales>250 and profit>50, find the product name of the fourth highest order based on sales value."
   ]
  },
  {
   "cell_type": "code",
   "execution_count": 94,
   "id": "f2b93a42",
   "metadata": {},
   "outputs": [
    {
     "data": {
      "text/plain": [
       "'Motorola Headset, with Caller ID'"
      ]
     },
     "execution_count": 94,
     "metadata": {},
     "output_type": "execute_result"
    }
   ],
   "source": [
    "highest_order=df.loc[(df['Sales']>250) & (df['Profit']>50)]\n",
    "highest_order=highest_order.sort_values(by='Sales',ascending=False)\n",
    "product = highest_order.reset_index().iloc[3]['Product Name']\n",
    "product"
   ]
  },
  {
   "cell_type": "markdown",
   "id": "de9cb3cd",
   "metadata": {},
   "source": [
    "Question 7: Remove the orders with negative profit by dropping the corresponding rows with negative `Profit`. Find the product that makes the lowest profit per Quantity in the Technology category."
   ]
  },
  {
   "cell_type": "code",
   "execution_count": 106,
   "id": "c1e8bf34",
   "metadata": {},
   "outputs": [
    {
     "data": {
      "text/plain": [
       "39     Logitech Keyboard, Programmable\n",
       "2        Belkin Flash Drive, Bluetooth\n",
       "13       Belkin Flash Drive, Bluetooth\n",
       "63        Logitech Numeric Keypad, USB\n",
       "8     Nokia Audio Dock, with Caller ID\n",
       "20    Motorola Headset, with Caller ID\n",
       "3           Panasonic Printer, Durable\n",
       "28          Panasonic Printer, Durable\n",
       "52              Cisco Audio Dock, VoIP\n",
       "33         Apple Smart Phone, Cordless\n",
       "30        Nokia Smart Phone, Full Size\n",
       "Name: Product Name, dtype: object"
      ]
     },
     "execution_count": 106,
     "metadata": {},
     "output_type": "execute_result"
    }
   ],
   "source": [
    "# df = df.drop(df.index[[df['Profit']<0]].tolist())\n",
    "lowest_profit=df[df.Profit>0]\n",
    "lowest_profit=lowest_profit.loc[lowest_profit.Category=='Technology']\n",
    "lowest_profit\n",
    "lowest_profit['Profit_per_qty']=lowest_profit['Profit']/lowest_profit['Quantity']\n",
    "lowest_profit=lowest_profit.sort_values(by='Profit_per_qty',ascending=True)#.loc[3]['Product Name']\n",
    "lowest_profit['Product Name']\n"
   ]
  }
 ],
 "metadata": {
  "kernelspec": {
   "display_name": "Python 3 (ipykernel)",
   "language": "python",
   "name": "python3"
  },
  "language_info": {
   "codemirror_mode": {
    "name": "ipython",
    "version": 3
   },
   "file_extension": ".py",
   "mimetype": "text/x-python",
   "name": "python",
   "nbconvert_exporter": "python",
   "pygments_lexer": "ipython3",
   "version": "3.9.12"
  }
 },
 "nbformat": 4,
 "nbformat_minor": 5
}
