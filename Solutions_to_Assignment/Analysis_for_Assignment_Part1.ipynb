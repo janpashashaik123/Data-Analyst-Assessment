{
 "cells": [
  {
   "cell_type": "code",
   "execution_count": 66,
   "id": "f75987b9",
   "metadata": {},
   "outputs": [],
   "source": [
    "import pandas as pd\n",
    "users= pd.read_csv(\"C:\\\\Users\\\\MUNNI SHAIK\\\\Downloads\\\\funnel-analysis\\\\user_table.csv\")\n",
    "home= pd.read_csv(\"C:\\\\Users\\\\MUNNI SHAIK\\\\Downloads\\\\funnel-analysis\\\\home_page_table.csv\")\n",
    "search= pd.read_csv(\"C:\\\\Users\\\\MUNNI SHAIK\\\\Downloads\\\\funnel-analysis\\\\search_page_table.csv\")\n",
    "payment= pd.read_csv(\"C:\\\\Users\\\\MUNNI SHAIK\\\\Downloads\\\\funnel-analysis\\\\payment_page_table.csv\")\n",
    "confirm_payment= pd.read_csv(\"C:\\\\Users\\\\MUNNI SHAIK\\\\Downloads\\\\funnel-analysis\\\\payment_confirmation_table.csv\")"
   ]
  },
  {
   "cell_type": "code",
   "execution_count": 67,
   "id": "df31bca4",
   "metadata": {},
   "outputs": [
    {
     "data": {
      "text/plain": [
       "90400"
      ]
     },
     "execution_count": 67,
     "metadata": {},
     "output_type": "execute_result"
    }
   ],
   "source": [
    "'''Number of users in user table'''\n",
    "users['user_id'].count()\n"
   ]
  },
  {
   "cell_type": "code",
   "execution_count": 68,
   "id": "9df614ff",
   "metadata": {},
   "outputs": [
    {
     "data": {
      "text/plain": [
       "45200"
      ]
     },
     "execution_count": 68,
     "metadata": {},
     "output_type": "execute_result"
    }
   ],
   "source": [
    "'''Number of users in search page'''\n",
    "search['user_id'].count()"
   ]
  },
  {
   "cell_type": "code",
   "execution_count": 69,
   "id": "5ef9001a",
   "metadata": {},
   "outputs": [
    {
     "data": {
      "text/plain": [
       "6030"
      ]
     },
     "execution_count": 69,
     "metadata": {},
     "output_type": "execute_result"
    }
   ],
   "source": [
    "'''Number of users in payments page'''\n",
    "payment['user_id'].count()"
   ]
  },
  {
   "cell_type": "code",
   "execution_count": 70,
   "id": "e74728e7",
   "metadata": {},
   "outputs": [
    {
     "data": {
      "text/plain": [
       "452"
      ]
     },
     "execution_count": 70,
     "metadata": {},
     "output_type": "execute_result"
    }
   ],
   "source": [
    "'''Number of users in  confirm page'''\n",
    "confirm_payment['user_id'].count()"
   ]
  },
  {
   "cell_type": "code",
   "execution_count": 71,
   "id": "81006ee4",
   "metadata": {},
   "outputs": [
    {
     "data": {
      "text/plain": [
       "0"
      ]
     },
     "execution_count": 71,
     "metadata": {},
     "output_type": "execute_result"
    }
   ],
   "source": [
    "''' Difference between total number of users and Number of users in home page '''\n",
    "\n",
    "users['user_id'].count()-home['user_id'].count()\n"
   ]
  },
  {
   "cell_type": "code",
   "execution_count": 72,
   "id": "5c2c6f08",
   "metadata": {},
   "outputs": [
    {
     "data": {
      "text/plain": [
       "45200"
      ]
     },
     "execution_count": 72,
     "metadata": {},
     "output_type": "execute_result"
    }
   ],
   "source": [
    "'''Difference between number of users in home page and number of users in search page'''\n",
    "diff_users_search = home['user_id'].count()-search['user_id'].count()\n",
    "diff_users_search\n"
   ]
  },
  {
   "cell_type": "code",
   "execution_count": 73,
   "id": "e4edc989",
   "metadata": {},
   "outputs": [
    {
     "data": {
      "text/plain": [
       "39170"
      ]
     },
     "execution_count": 73,
     "metadata": {},
     "output_type": "execute_result"
    }
   ],
   "source": [
    "'''Difference between number of users in search page and number of users in payments page'''\n",
    "search['user_id'].count()-payment['user_id'].count()\n"
   ]
  },
  {
   "cell_type": "code",
   "execution_count": 74,
   "id": "efc83db2",
   "metadata": {},
   "outputs": [
    {
     "data": {
      "text/plain": [
       "5578"
      ]
     },
     "execution_count": 74,
     "metadata": {},
     "output_type": "execute_result"
    }
   ],
   "source": [
    "'''Difference between number of users in payments page and number of users in confirm page'''\n",
    "diff_users_confirm_payment = payment['user_id'].count()-confirm_payment['user_id'].count()\n",
    "diff_users_confirm_payment"
   ]
  },
  {
   "cell_type": "code",
   "execution_count": 75,
   "id": "bb24d7d6",
   "metadata": {},
   "outputs": [
    {
     "name": "stdout",
     "output_type": "stream",
     "text": [
      "30200\n",
      "60200\n"
     ]
    }
   ],
   "source": [
    "'''Total number of mobile users and total number of desktop users'''\n",
    "mobile = users[users['device']=='Mobile'].count()\n",
    "desktop = users[users['device']=='Desktop'].count()\n",
    "print(mobile['user_id'])\n",
    "print(desktop['user_id'])"
   ]
  },
  {
   "cell_type": "code",
   "execution_count": 76,
   "id": "c501b447",
   "metadata": {},
   "outputs": [
    {
     "name": "stdout",
     "output_type": "stream",
     "text": [
      "15171\n",
      "30029\n"
     ]
    },
    {
     "name": "stderr",
     "output_type": "stream",
     "text": [
      "C:\\Users\\MUNNI SHAIK\\AppData\\Local\\Temp\\ipykernel_14452\\2218166832.py:2: UserWarning: Boolean Series key will be reindexed to match DataFrame index.\n",
      "  search_mobile = search[users['device']=='Mobile'].count()\n",
      "C:\\Users\\MUNNI SHAIK\\AppData\\Local\\Temp\\ipykernel_14452\\2218166832.py:3: UserWarning: Boolean Series key will be reindexed to match DataFrame index.\n",
      "  search_desktop=search[users['device']=='Desktop'].count()\n"
     ]
    }
   ],
   "source": [
    "'''Total number of mobile users in search page and total number of desktop users in search page'''\n",
    "search_mobile = search[users['device']=='Mobile'].count()\n",
    "search_desktop=search[users['device']=='Desktop'].count()\n",
    "print(search_mobile['user_id'])\n",
    "print(search_desktop['user_id'])"
   ]
  },
  {
   "cell_type": "code",
   "execution_count": 77,
   "id": "1fd3f679",
   "metadata": {},
   "outputs": [
    {
     "name": "stdout",
     "output_type": "stream",
     "text": [
      "2019\n",
      "4011\n"
     ]
    },
    {
     "name": "stderr",
     "output_type": "stream",
     "text": [
      "C:\\Users\\MUNNI SHAIK\\AppData\\Local\\Temp\\ipykernel_14452\\2633940438.py:2: UserWarning: Boolean Series key will be reindexed to match DataFrame index.\n",
      "  payment_mobile = payment[users['device']=='Mobile'].count()\n",
      "C:\\Users\\MUNNI SHAIK\\AppData\\Local\\Temp\\ipykernel_14452\\2633940438.py:3: UserWarning: Boolean Series key will be reindexed to match DataFrame index.\n",
      "  payment_desktop = payment[users['device']=='Desktop'].count()\n"
     ]
    }
   ],
   "source": [
    "'''Total number of mobile users in payments page and total number of desktop users in payments page'''\n",
    "payment_mobile = payment[users['device']=='Mobile'].count()\n",
    "payment_desktop = payment[users['device']=='Desktop'].count()\n",
    "print(payment_mobile['user_id'])\n",
    "print(payment_desktop['user_id'])"
   ]
  },
  {
   "cell_type": "code",
   "execution_count": 79,
   "id": "b621b44d",
   "metadata": {},
   "outputs": [
    {
     "name": "stdout",
     "output_type": "stream",
     "text": [
      "146\n",
      "306\n"
     ]
    },
    {
     "name": "stderr",
     "output_type": "stream",
     "text": [
      "C:\\Users\\MUNNI SHAIK\\AppData\\Local\\Temp\\ipykernel_14452\\4222100912.py:2: UserWarning: Boolean Series key will be reindexed to match DataFrame index.\n",
      "  confirm_payment_mobile = confirm_payment[users['device']=='Mobile'].count()\n",
      "C:\\Users\\MUNNI SHAIK\\AppData\\Local\\Temp\\ipykernel_14452\\4222100912.py:3: UserWarning: Boolean Series key will be reindexed to match DataFrame index.\n",
      "  confirm_payment_desktop = confirm_payment[users['device']=='Desktop'].count()\n"
     ]
    }
   ],
   "source": [
    "'''Total number of mobile users in confirm page and total number of desktop users in confirm page'''\n",
    "confirm_payment_mobile = confirm_payment[users['device']=='Mobile'].count()\n",
    "confirm_payment_desktop = confirm_payment[users['device']=='Desktop'].count()\n",
    "print(confirm_payment_mobile['user_id'])\n",
    "print(confirm_payment_desktop['user_id'])"
   ]
  },
  {
   "cell_type": "code",
   "execution_count": null,
   "id": "f0f55d85",
   "metadata": {},
   "outputs": [],
   "source": []
  }
 ],
 "metadata": {
  "kernelspec": {
   "display_name": "Python 3 (ipykernel)",
   "language": "python",
   "name": "python3"
  },
  "language_info": {
   "codemirror_mode": {
    "name": "ipython",
    "version": 3
   },
   "file_extension": ".py",
   "mimetype": "text/x-python",
   "name": "python",
   "nbconvert_exporter": "python",
   "pygments_lexer": "ipython3",
   "version": "3.9.12"
  }
 },
 "nbformat": 4,
 "nbformat_minor": 5
}
